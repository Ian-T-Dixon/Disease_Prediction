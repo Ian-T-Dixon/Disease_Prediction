{
 "cells": [
  {
   "cell_type": "code",
   "execution_count": 12,
   "metadata": {},
   "outputs": [],
   "source": [
    "import pandas as pd\n",
    "import sys\n",
    "import os\n",
    "sys.path.append(os.path.abspath(os.path.join('../..')))\n",
    "from config import db_password\n",
    "\n",
    "import psycopg2\n",
    "from sqlalchemy import create_engine\n",
    "import urllib.parse\n",
    "\n",
    "db_string = f\"postgresql://postgres:{urllib.parse.quote(db_password)}\\\n",
    "@127.0.0.1:5432/disease_prediction\"\n",
    "\n",
    "sql_dfs = {\n",
    "    'dataset_bool': 'dataset_bool.csv',\n",
    "    'disease_cases': 'dataset_clean.csv',\n",
    "    'disease_description': 'disease_description_clean.csv',\n",
    "    'disease_precautions': 'disease_precaution_clean.csv',\n",
    "    'symptom_severity': 'symptom_severity_clean.csv'\n",
    "}\n",
    "\n",
    "join_query = \"CREATE TABLE disease_info AS  \\\n",
    "SELECT * FROM disease_description AS d_desc \\\n",
    "INNER JOIN disease_precautions AS d_pre     \\\n",
    "USING (\\\"Disease\\\")\"\n",
    "\n",
    "with create_engine(db_string).connect() as engine:\n",
    "    for tablename in sql_dfs:\n",
    "        filename = sql_dfs[tablename]\n",
    "        df = pd.read_csv(f'./Data/Cleaned/{filename}')\n",
    "        try:\n",
    "            df.to_sql(name=tablename,\n",
    "            con=engine,\n",
    "            if_exists='fail',\n",
    "            index=False,\n",
    "            )\n",
    "        except ValueError:\n",
    "            continue\n",
    "\n",
    "    engine.execute(join_query)"
   ]
  },
  {
   "cell_type": "code",
   "execution_count": null,
   "metadata": {},
   "outputs": [],
   "source": []
  }
 ],
 "metadata": {
  "kernelspec": {
   "display_name": "Python 3.7.13 ('mlenv')",
   "language": "python",
   "name": "python3"
  },
  "language_info": {
   "codemirror_mode": {
    "name": "ipython",
    "version": 3
   },
   "file_extension": ".py",
   "mimetype": "text/x-python",
   "name": "python",
   "nbconvert_exporter": "python",
   "pygments_lexer": "ipython3",
   "version": "3.7.13"
  },
  "orig_nbformat": 4,
  "vscode": {
   "interpreter": {
    "hash": "bbc7bfc93d1e3e56daa686cc6e2f3441ee96e0bb404360dbb8abc699be8958c5"
   }
  }
 },
 "nbformat": 4,
 "nbformat_minor": 2
}
