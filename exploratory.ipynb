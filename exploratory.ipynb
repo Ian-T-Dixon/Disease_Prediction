{
 "cells": [
  {
   "cell_type": "markdown",
   "metadata": {},
   "source": [
    "## Exploratory Data Analysis"
   ]
  },
  {
   "cell_type": "code",
   "execution_count": 1,
   "metadata": {},
   "outputs": [],
   "source": [
    "import numpy as np\n",
    "import pandas as pd"
   ]
  },
  {
   "cell_type": "markdown",
   "metadata": {},
   "source": [
    "### Main Dataset"
   ]
  },
  {
   "cell_type": "code",
   "execution_count": 2,
   "metadata": {},
   "outputs": [
    {
     "data": {
      "text/html": [
       "<div>\n",
       "<style scoped>\n",
       "    .dataframe tbody tr th:only-of-type {\n",
       "        vertical-align: middle;\n",
       "    }\n",
       "\n",
       "    .dataframe tbody tr th {\n",
       "        vertical-align: top;\n",
       "    }\n",
       "\n",
       "    .dataframe thead th {\n",
       "        text-align: right;\n",
       "    }\n",
       "</style>\n",
       "<table border=\"1\" class=\"dataframe\">\n",
       "  <thead>\n",
       "    <tr style=\"text-align: right;\">\n",
       "      <th></th>\n",
       "      <th>Disease</th>\n",
       "      <th>Symptom_1</th>\n",
       "      <th>Symptom_2</th>\n",
       "      <th>Symptom_3</th>\n",
       "      <th>Symptom_4</th>\n",
       "      <th>Symptom_5</th>\n",
       "      <th>Symptom_6</th>\n",
       "      <th>Symptom_7</th>\n",
       "      <th>Symptom_8</th>\n",
       "      <th>Symptom_9</th>\n",
       "      <th>Symptom_10</th>\n",
       "      <th>Symptom_11</th>\n",
       "      <th>Symptom_12</th>\n",
       "      <th>Symptom_13</th>\n",
       "      <th>Symptom_14</th>\n",
       "      <th>Symptom_15</th>\n",
       "      <th>Symptom_16</th>\n",
       "      <th>Symptom_17</th>\n",
       "    </tr>\n",
       "  </thead>\n",
       "  <tbody>\n",
       "    <tr>\n",
       "      <th>0</th>\n",
       "      <td>Fungal infection</td>\n",
       "      <td>itching</td>\n",
       "      <td>skin_rash</td>\n",
       "      <td>nodal_skin_eruptions</td>\n",
       "      <td>dischromic _patches</td>\n",
       "      <td>NaN</td>\n",
       "      <td>NaN</td>\n",
       "      <td>NaN</td>\n",
       "      <td>NaN</td>\n",
       "      <td>NaN</td>\n",
       "      <td>NaN</td>\n",
       "      <td>NaN</td>\n",
       "      <td>NaN</td>\n",
       "      <td>NaN</td>\n",
       "      <td>NaN</td>\n",
       "      <td>NaN</td>\n",
       "      <td>NaN</td>\n",
       "      <td>NaN</td>\n",
       "    </tr>\n",
       "    <tr>\n",
       "      <th>1</th>\n",
       "      <td>Fungal infection</td>\n",
       "      <td>skin_rash</td>\n",
       "      <td>nodal_skin_eruptions</td>\n",
       "      <td>dischromic _patches</td>\n",
       "      <td>NaN</td>\n",
       "      <td>NaN</td>\n",
       "      <td>NaN</td>\n",
       "      <td>NaN</td>\n",
       "      <td>NaN</td>\n",
       "      <td>NaN</td>\n",
       "      <td>NaN</td>\n",
       "      <td>NaN</td>\n",
       "      <td>NaN</td>\n",
       "      <td>NaN</td>\n",
       "      <td>NaN</td>\n",
       "      <td>NaN</td>\n",
       "      <td>NaN</td>\n",
       "      <td>NaN</td>\n",
       "    </tr>\n",
       "    <tr>\n",
       "      <th>2</th>\n",
       "      <td>Fungal infection</td>\n",
       "      <td>itching</td>\n",
       "      <td>nodal_skin_eruptions</td>\n",
       "      <td>dischromic _patches</td>\n",
       "      <td>NaN</td>\n",
       "      <td>NaN</td>\n",
       "      <td>NaN</td>\n",
       "      <td>NaN</td>\n",
       "      <td>NaN</td>\n",
       "      <td>NaN</td>\n",
       "      <td>NaN</td>\n",
       "      <td>NaN</td>\n",
       "      <td>NaN</td>\n",
       "      <td>NaN</td>\n",
       "      <td>NaN</td>\n",
       "      <td>NaN</td>\n",
       "      <td>NaN</td>\n",
       "      <td>NaN</td>\n",
       "    </tr>\n",
       "    <tr>\n",
       "      <th>3</th>\n",
       "      <td>Fungal infection</td>\n",
       "      <td>itching</td>\n",
       "      <td>skin_rash</td>\n",
       "      <td>dischromic _patches</td>\n",
       "      <td>NaN</td>\n",
       "      <td>NaN</td>\n",
       "      <td>NaN</td>\n",
       "      <td>NaN</td>\n",
       "      <td>NaN</td>\n",
       "      <td>NaN</td>\n",
       "      <td>NaN</td>\n",
       "      <td>NaN</td>\n",
       "      <td>NaN</td>\n",
       "      <td>NaN</td>\n",
       "      <td>NaN</td>\n",
       "      <td>NaN</td>\n",
       "      <td>NaN</td>\n",
       "      <td>NaN</td>\n",
       "    </tr>\n",
       "    <tr>\n",
       "      <th>4</th>\n",
       "      <td>Fungal infection</td>\n",
       "      <td>itching</td>\n",
       "      <td>skin_rash</td>\n",
       "      <td>nodal_skin_eruptions</td>\n",
       "      <td>NaN</td>\n",
       "      <td>NaN</td>\n",
       "      <td>NaN</td>\n",
       "      <td>NaN</td>\n",
       "      <td>NaN</td>\n",
       "      <td>NaN</td>\n",
       "      <td>NaN</td>\n",
       "      <td>NaN</td>\n",
       "      <td>NaN</td>\n",
       "      <td>NaN</td>\n",
       "      <td>NaN</td>\n",
       "      <td>NaN</td>\n",
       "      <td>NaN</td>\n",
       "      <td>NaN</td>\n",
       "    </tr>\n",
       "  </tbody>\n",
       "</table>\n",
       "</div>"
      ],
      "text/plain": [
       "            Disease   Symptom_1              Symptom_2              Symptom_3  \\\n",
       "0  Fungal infection     itching              skin_rash   nodal_skin_eruptions   \n",
       "1  Fungal infection   skin_rash   nodal_skin_eruptions    dischromic _patches   \n",
       "2  Fungal infection     itching   nodal_skin_eruptions    dischromic _patches   \n",
       "3  Fungal infection     itching              skin_rash    dischromic _patches   \n",
       "4  Fungal infection     itching              skin_rash   nodal_skin_eruptions   \n",
       "\n",
       "              Symptom_4 Symptom_5 Symptom_6 Symptom_7 Symptom_8 Symptom_9  \\\n",
       "0   dischromic _patches       NaN       NaN       NaN       NaN       NaN   \n",
       "1                   NaN       NaN       NaN       NaN       NaN       NaN   \n",
       "2                   NaN       NaN       NaN       NaN       NaN       NaN   \n",
       "3                   NaN       NaN       NaN       NaN       NaN       NaN   \n",
       "4                   NaN       NaN       NaN       NaN       NaN       NaN   \n",
       "\n",
       "  Symptom_10 Symptom_11 Symptom_12 Symptom_13 Symptom_14 Symptom_15  \\\n",
       "0        NaN        NaN        NaN        NaN        NaN        NaN   \n",
       "1        NaN        NaN        NaN        NaN        NaN        NaN   \n",
       "2        NaN        NaN        NaN        NaN        NaN        NaN   \n",
       "3        NaN        NaN        NaN        NaN        NaN        NaN   \n",
       "4        NaN        NaN        NaN        NaN        NaN        NaN   \n",
       "\n",
       "  Symptom_16 Symptom_17  \n",
       "0        NaN        NaN  \n",
       "1        NaN        NaN  \n",
       "2        NaN        NaN  \n",
       "3        NaN        NaN  \n",
       "4        NaN        NaN  "
      ]
     },
     "execution_count": 2,
     "metadata": {},
     "output_type": "execute_result"
    }
   ],
   "source": [
    "# Main dataset\n",
    "data_df = pd.read_csv(\"./Data/Dirty/dataset.csv\")\n",
    "data_df.head()"
   ]
  },
  {
   "cell_type": "code",
   "execution_count": 3,
   "metadata": {},
   "outputs": [
    {
     "data": {
      "text/plain": [
       "41"
      ]
     },
     "execution_count": 3,
     "metadata": {},
     "output_type": "execute_result"
    }
   ],
   "source": [
    "# Number of target variables\n",
    "data_df['Disease'].nunique()"
   ]
  },
  {
   "cell_type": "code",
   "execution_count": 4,
   "metadata": {},
   "outputs": [
    {
     "data": {
      "text/plain": [
       "Fungal infection       120\n",
       "Hepatitis C            120\n",
       "Hepatitis E            120\n",
       "Alcoholic hepatitis    120\n",
       "Tuberculosis           120\n",
       "Name: Disease, dtype: int64"
      ]
     },
     "execution_count": 4,
     "metadata": {},
     "output_type": "execute_result"
    }
   ],
   "source": [
    "data_df['Disease'].value_counts()[:5]"
   ]
  },
  {
   "cell_type": "code",
   "execution_count": 5,
   "metadata": {},
   "outputs": [
    {
     "data": {
      "text/plain": [
       "1"
      ]
     },
     "execution_count": 5,
     "metadata": {},
     "output_type": "execute_result"
    }
   ],
   "source": [
    "# All diseases have a sample size of n=120\n",
    "data_df['Disease'].value_counts().nunique()"
   ]
  },
  {
   "cell_type": "code",
   "execution_count": 6,
   "metadata": {},
   "outputs": [
    {
     "data": {
      "text/plain": [
       " muscle_pain    72\n",
       "Name: Symptom_17, dtype: int64"
      ]
     },
     "execution_count": 6,
     "metadata": {},
     "output_type": "execute_result"
    }
   ],
   "source": [
    "# Last column contains values\n",
    "data_df['Symptom_17'].value_counts()"
   ]
  },
  {
   "cell_type": "code",
   "execution_count": 7,
   "metadata": {},
   "outputs": [
    {
     "name": "stdout",
     "output_type": "stream",
     "text": [
      "No columns are empty.\n"
     ]
    }
   ],
   "source": [
    "# A more rigorous confirmation that no symptom columns contain only NaN\n",
    "empty_bool = True\n",
    "\n",
    "for col in data_df.columns[1:]:\n",
    "    if data_df[col].value_counts().empty == True:\n",
    "        print(col)\n",
    "        empty_bool = False\n",
    "        \n",
    "if empty_bool: print('No columns are empty.')"
   ]
  },
  {
   "cell_type": "code",
   "execution_count": 8,
   "metadata": {},
   "outputs": [
    {
     "name": "stdout",
     "output_type": "stream",
     "text": [
      "   column\n",
      "0     NaN\n",
      "1     NaN\n",
      "2     NaN\n"
     ]
    },
    {
     "data": {
      "text/plain": [
       "True"
      ]
     },
     "execution_count": 8,
     "metadata": {},
     "output_type": "execute_result"
    }
   ],
   "source": [
    "# Confirm that the .value_counts() of a column with only NaN is empty\n",
    "test_df = pd.DataFrame({'column': [np.nan] * 3})\n",
    "print(test_df)\n",
    "\n",
    "test_df['column'].value_counts().empty"
   ]
  },
  {
   "cell_type": "code",
   "execution_count": 9,
   "metadata": {},
   "outputs": [
    {
     "data": {
      "text/plain": [
       "[' abdominal_pain',\n",
       " ' abnormal_menstruation',\n",
       " ' acidity',\n",
       " ' acute_liver_failure',\n",
       " ' altered_sensorium']"
      ]
     },
     "execution_count": 9,
     "metadata": {},
     "output_type": "execute_result"
    }
   ],
   "source": [
    "# List of symptom column names from data_df\n",
    "symptom_cols = data_df.columns.to_list()[1:]\n",
    "\n",
    "# Get values from symptom columns as an array\n",
    "symptom_values = data_df[symptom_cols].values.astype(str)\n",
    "\n",
    "# Get list of unique values from array\n",
    "symptom_list = list(np.unique(symptom_values))\n",
    "symptom_list.remove('nan')\n",
    "symptom_list[:5]"
   ]
  },
  {
   "cell_type": "code",
   "execution_count": 10,
   "metadata": {},
   "outputs": [
    {
     "data": {
      "text/plain": [
       "['(vertigo) Paroymsal  Positional Vertigo',\n",
       " 'AIDS',\n",
       " 'Acne',\n",
       " 'Alcoholic hepatitis',\n",
       " 'Allergy']"
      ]
     },
     "execution_count": 10,
     "metadata": {},
     "output_type": "execute_result"
    }
   ],
   "source": [
    "# Get list of unique Disease values from data_df\n",
    "disease_data_list = list(np.unique(data_df['Disease'].values.astype(str)))\n",
    "disease_data_list[:5]"
   ]
  },
  {
   "cell_type": "code",
   "execution_count": 11,
   "metadata": {},
   "outputs": [
    {
     "name": "stdout",
     "output_type": "stream",
     "text": [
      "Diabetes \n",
      "Hypertension \n"
     ]
    }
   ],
   "source": [
    "# Find diseases in data_df with leading or trailing whitespace\n",
    "for value in disease_data_list:\n",
    "    if value.startswith(\" \") or value.endswith(\" \"):\n",
    "        print(value)"
   ]
  },
  {
   "cell_type": "code",
   "execution_count": 12,
   "metadata": {},
   "outputs": [],
   "source": [
    "# Strip all values in data_df of leading or trailing whitespace\n",
    "for col in data_df.columns:\n",
    "    data_df[col] = data_df[col].str.strip()"
   ]
  },
  {
   "cell_type": "code",
   "execution_count": 13,
   "metadata": {},
   "outputs": [
    {
     "name": "stdout",
     "output_type": "stream",
     "text": [
      "No leading or trailing whitespace found.\n"
     ]
    }
   ],
   "source": [
    "# Check that values in all columns have been stripped\n",
    "strip_bool = True\n",
    "\n",
    "for col in data_df:\n",
    "    if (data_df[col].str.startswith(\" \").any() or\n",
    "        data_df[col].str.endswith(\" \").any()):\n",
    "        print(col)\n",
    "        strip_bool = False\n",
    "        \n",
    "if strip_bool: print('No leading or trailing whitespace found.')"
   ]
  },
  {
   "cell_type": "markdown",
   "metadata": {},
   "source": [
    "### Symptom Severity"
   ]
  },
  {
   "cell_type": "code",
   "execution_count": 14,
   "metadata": {},
   "outputs": [
    {
     "data": {
      "text/html": [
       "<div>\n",
       "<style scoped>\n",
       "    .dataframe tbody tr th:only-of-type {\n",
       "        vertical-align: middle;\n",
       "    }\n",
       "\n",
       "    .dataframe tbody tr th {\n",
       "        vertical-align: top;\n",
       "    }\n",
       "\n",
       "    .dataframe thead th {\n",
       "        text-align: right;\n",
       "    }\n",
       "</style>\n",
       "<table border=\"1\" class=\"dataframe\">\n",
       "  <thead>\n",
       "    <tr style=\"text-align: right;\">\n",
       "      <th></th>\n",
       "      <th>Symptom</th>\n",
       "      <th>weight</th>\n",
       "    </tr>\n",
       "  </thead>\n",
       "  <tbody>\n",
       "    <tr>\n",
       "      <th>127</th>\n",
       "      <td>small_dents_in_nails</td>\n",
       "      <td>2</td>\n",
       "    </tr>\n",
       "    <tr>\n",
       "      <th>128</th>\n",
       "      <td>inflammatory_nails</td>\n",
       "      <td>2</td>\n",
       "    </tr>\n",
       "    <tr>\n",
       "      <th>129</th>\n",
       "      <td>blister</td>\n",
       "      <td>4</td>\n",
       "    </tr>\n",
       "    <tr>\n",
       "      <th>130</th>\n",
       "      <td>red_sore_around_nose</td>\n",
       "      <td>2</td>\n",
       "    </tr>\n",
       "    <tr>\n",
       "      <th>131</th>\n",
       "      <td>yellow_crust_ooze</td>\n",
       "      <td>3</td>\n",
       "    </tr>\n",
       "  </tbody>\n",
       "</table>\n",
       "</div>"
      ],
      "text/plain": [
       "                  Symptom  weight\n",
       "127  small_dents_in_nails       2\n",
       "128    inflammatory_nails       2\n",
       "129               blister       4\n",
       "130  red_sore_around_nose       2\n",
       "131     yellow_crust_ooze       3"
      ]
     },
     "execution_count": 14,
     "metadata": {},
     "output_type": "execute_result"
    }
   ],
   "source": [
    "# Symptom severity\n",
    "severity_df = pd.read_csv('./Data/Dirty/symptom_severity.csv')\n",
    "severity_df.tail()"
   ]
  },
  {
   "cell_type": "code",
   "execution_count": 15,
   "metadata": {},
   "outputs": [
    {
     "name": "stdout",
     "output_type": "stream",
     "text": [
      "131\n",
      "132\n"
     ]
    }
   ],
   "source": [
    "# Compare number of symptoms in dataset to those in severity_df\n",
    "print(len(symptom_list))\n",
    "\n",
    "print(len(severity_df['Symptom']))"
   ]
  },
  {
   "cell_type": "code",
   "execution_count": 16,
   "metadata": {},
   "outputs": [
    {
     "data": {
      "text/html": [
       "<div>\n",
       "<style scoped>\n",
       "    .dataframe tbody tr th:only-of-type {\n",
       "        vertical-align: middle;\n",
       "    }\n",
       "\n",
       "    .dataframe tbody tr th {\n",
       "        vertical-align: top;\n",
       "    }\n",
       "\n",
       "    .dataframe thead th {\n",
       "        text-align: right;\n",
       "    }\n",
       "</style>\n",
       "<table border=\"1\" class=\"dataframe\">\n",
       "  <thead>\n",
       "    <tr style=\"text-align: right;\">\n",
       "      <th></th>\n",
       "      <th>Symptom</th>\n",
       "      <th>weight</th>\n",
       "    </tr>\n",
       "  </thead>\n",
       "  <tbody>\n",
       "    <tr>\n",
       "      <th>117</th>\n",
       "      <td>fluid_overload</td>\n",
       "      <td>4</td>\n",
       "    </tr>\n",
       "  </tbody>\n",
       "</table>\n",
       "</div>"
      ],
      "text/plain": [
       "            Symptom  weight\n",
       "117  fluid_overload       4"
      ]
     },
     "execution_count": 16,
     "metadata": {},
     "output_type": "execute_result"
    }
   ],
   "source": [
    "# Find duplicated symptoms in severity_df\n",
    "severity_df[severity_df['Symptom'].duplicated()]"
   ]
  },
  {
   "cell_type": "code",
   "execution_count": 17,
   "metadata": {},
   "outputs": [
    {
     "data": {
      "text/html": [
       "<div>\n",
       "<style scoped>\n",
       "    .dataframe tbody tr th:only-of-type {\n",
       "        vertical-align: middle;\n",
       "    }\n",
       "\n",
       "    .dataframe tbody tr th {\n",
       "        vertical-align: top;\n",
       "    }\n",
       "\n",
       "    .dataframe thead th {\n",
       "        text-align: right;\n",
       "    }\n",
       "</style>\n",
       "<table border=\"1\" class=\"dataframe\">\n",
       "  <thead>\n",
       "    <tr style=\"text-align: right;\">\n",
       "      <th></th>\n",
       "      <th>Symptom</th>\n",
       "      <th>weight</th>\n",
       "    </tr>\n",
       "  </thead>\n",
       "  <tbody>\n",
       "    <tr>\n",
       "      <th>45</th>\n",
       "      <td>fluid_overload</td>\n",
       "      <td>6</td>\n",
       "    </tr>\n",
       "    <tr>\n",
       "      <th>117</th>\n",
       "      <td>fluid_overload</td>\n",
       "      <td>4</td>\n",
       "    </tr>\n",
       "  </tbody>\n",
       "</table>\n",
       "</div>"
      ],
      "text/plain": [
       "            Symptom  weight\n",
       "45   fluid_overload       6\n",
       "117  fluid_overload       4"
      ]
     },
     "execution_count": 17,
     "metadata": {},
     "output_type": "execute_result"
    }
   ],
   "source": [
    "# Look at both duplicate records\n",
    "severity_df.loc[severity_df['Symptom'] == 'fluid_overload']"
   ]
  },
  {
   "cell_type": "code",
   "execution_count": 18,
   "metadata": {},
   "outputs": [
    {
     "data": {
      "text/html": [
       "<div>\n",
       "<style scoped>\n",
       "    .dataframe tbody tr th:only-of-type {\n",
       "        vertical-align: middle;\n",
       "    }\n",
       "\n",
       "    .dataframe tbody tr th {\n",
       "        vertical-align: top;\n",
       "    }\n",
       "\n",
       "    .dataframe thead th {\n",
       "        text-align: right;\n",
       "    }\n",
       "</style>\n",
       "<table border=\"1\" class=\"dataframe\">\n",
       "  <thead>\n",
       "    <tr style=\"text-align: right;\">\n",
       "      <th></th>\n",
       "      <th>Symptom</th>\n",
       "      <th>weight</th>\n",
       "    </tr>\n",
       "  </thead>\n",
       "  <tbody>\n",
       "    <tr>\n",
       "      <th>45</th>\n",
       "      <td>fluid_overload</td>\n",
       "      <td>5</td>\n",
       "    </tr>\n",
       "  </tbody>\n",
       "</table>\n",
       "</div>"
      ],
      "text/plain": [
       "           Symptom weight\n",
       "45  fluid_overload      5"
      ]
     },
     "execution_count": 18,
     "metadata": {},
     "output_type": "execute_result"
    }
   ],
   "source": [
    "# Drop duplicate and replace weight of remaining record with the average, '5'\n",
    "severity_df = severity_df.drop_duplicates(subset='Symptom')\n",
    "\n",
    "fluid_exp = severity_df['Symptom'] == 'fluid_overload'\n",
    "severity_df.loc[fluid_exp, 'weight'] = '5'\n",
    "severity_df.loc[fluid_exp]"
   ]
  },
  {
   "cell_type": "code",
   "execution_count": 19,
   "metadata": {},
   "outputs": [
    {
     "data": {
      "text/plain": [
       "Symptom    object\n",
       "weight      int32\n",
       "dtype: object"
      ]
     },
     "execution_count": 19,
     "metadata": {},
     "output_type": "execute_result"
    }
   ],
   "source": [
    "# Convert symptom severity weights to integers\n",
    "severity_df['weight'] = severity_df['weight'].astype('int')\n",
    "severity_df.dtypes"
   ]
  },
  {
   "cell_type": "code",
   "execution_count": 20,
   "metadata": {},
   "outputs": [
    {
     "data": {
      "text/html": [
       "<div>\n",
       "<style scoped>\n",
       "    .dataframe tbody tr th:only-of-type {\n",
       "        vertical-align: middle;\n",
       "    }\n",
       "\n",
       "    .dataframe tbody tr th {\n",
       "        vertical-align: top;\n",
       "    }\n",
       "\n",
       "    .dataframe thead th {\n",
       "        text-align: right;\n",
       "    }\n",
       "</style>\n",
       "<table border=\"1\" class=\"dataframe\">\n",
       "  <thead>\n",
       "    <tr style=\"text-align: right;\">\n",
       "      <th></th>\n",
       "      <th>Symptom</th>\n",
       "      <th>weight</th>\n",
       "    </tr>\n",
       "  </thead>\n",
       "  <tbody>\n",
       "    <tr>\n",
       "      <th>0</th>\n",
       "      <td>coma</td>\n",
       "      <td>7</td>\n",
       "    </tr>\n",
       "    <tr>\n",
       "      <th>1</th>\n",
       "      <td>high_fever</td>\n",
       "      <td>7</td>\n",
       "    </tr>\n",
       "    <tr>\n",
       "      <th>2</th>\n",
       "      <td>swelling_of_stomach</td>\n",
       "      <td>7</td>\n",
       "    </tr>\n",
       "    <tr>\n",
       "      <th>3</th>\n",
       "      <td>chest_pain</td>\n",
       "      <td>7</td>\n",
       "    </tr>\n",
       "    <tr>\n",
       "      <th>4</th>\n",
       "      <td>weakness_in_limbs</td>\n",
       "      <td>7</td>\n",
       "    </tr>\n",
       "    <tr>\n",
       "      <th>...</th>\n",
       "      <td>...</td>\n",
       "      <td>...</td>\n",
       "    </tr>\n",
       "    <tr>\n",
       "      <th>126</th>\n",
       "      <td>receiving_unsterile_injections</td>\n",
       "      <td>2</td>\n",
       "    </tr>\n",
       "    <tr>\n",
       "      <th>127</th>\n",
       "      <td>hip_joint_pain</td>\n",
       "      <td>2</td>\n",
       "    </tr>\n",
       "    <tr>\n",
       "      <th>128</th>\n",
       "      <td>muscle_weakness</td>\n",
       "      <td>2</td>\n",
       "    </tr>\n",
       "    <tr>\n",
       "      <th>129</th>\n",
       "      <td>irritability</td>\n",
       "      <td>2</td>\n",
       "    </tr>\n",
       "    <tr>\n",
       "      <th>130</th>\n",
       "      <td>itching</td>\n",
       "      <td>1</td>\n",
       "    </tr>\n",
       "  </tbody>\n",
       "</table>\n",
       "<p>131 rows × 2 columns</p>\n",
       "</div>"
      ],
      "text/plain": [
       "                            Symptom  weight\n",
       "0                              coma       7\n",
       "1                        high_fever       7\n",
       "2               swelling_of_stomach       7\n",
       "3                        chest_pain       7\n",
       "4                 weakness_in_limbs       7\n",
       "..                              ...     ...\n",
       "126  receiving_unsterile_injections       2\n",
       "127                  hip_joint_pain       2\n",
       "128                 muscle_weakness       2\n",
       "129                    irritability       2\n",
       "130                         itching       1\n",
       "\n",
       "[131 rows x 2 columns]"
      ]
     },
     "execution_count": 20,
     "metadata": {},
     "output_type": "execute_result"
    }
   ],
   "source": [
    "# Sort symptoms by weight to view comparatively\n",
    "severity_df = severity_df.sort_values(by='weight', ascending=False)\n",
    "severity_df = severity_df.reset_index(drop=True)\n",
    "severity_df"
   ]
  },
  {
   "cell_type": "code",
   "execution_count": 21,
   "metadata": {},
   "outputs": [
    {
     "data": {
      "text/plain": [
       "<AxesSubplot:>"
      ]
     },
     "execution_count": 21,
     "metadata": {},
     "output_type": "execute_result"
    },
    {
     "data": {
      "image/png": "[encoded data removed]",
      "text/plain": [
       "<Figure size 432x288 with 1 Axes>"
      ]
     },
     "metadata": {
      "needs_background": "light"
     },
     "output_type": "display_data"
    }
   ],
   "source": [
    "# Check distribution of symptom severity weights\n",
    "# Weights roughly follow a normal distribution\n",
    "weight_freq = severity_df['weight'].value_counts().sort_index()\n",
    "weight_freq.plot()"
   ]
  },
  {
   "cell_type": "markdown",
   "metadata": {},
   "source": [
    "### Disease Descriptions"
   ]
  },
  {
   "cell_type": "code",
   "execution_count": 22,
   "metadata": {},
   "outputs": [
    {
     "data": {
      "text/html": [
       "<div>\n",
       "<style scoped>\n",
       "    .dataframe tbody tr th:only-of-type {\n",
       "        vertical-align: middle;\n",
       "    }\n",
       "\n",
       "    .dataframe tbody tr th {\n",
       "        vertical-align: top;\n",
       "    }\n",
       "\n",
       "    .dataframe thead th {\n",
       "        text-align: right;\n",
       "    }\n",
       "</style>\n",
       "<table border=\"1\" class=\"dataframe\">\n",
       "  <thead>\n",
       "    <tr style=\"text-align: right;\">\n",
       "      <th></th>\n",
       "      <th>Disease</th>\n",
       "      <th>Description</th>\n",
       "    </tr>\n",
       "  </thead>\n",
       "  <tbody>\n",
       "    <tr>\n",
       "      <th>36</th>\n",
       "      <td>Heart attack</td>\n",
       "      <td>The death of heart muscle due to the loss of b...</td>\n",
       "    </tr>\n",
       "    <tr>\n",
       "      <th>37</th>\n",
       "      <td>Pneumonia</td>\n",
       "      <td>Pneumonia is an infection in one or both lungs...</td>\n",
       "    </tr>\n",
       "    <tr>\n",
       "      <th>38</th>\n",
       "      <td>Arthritis</td>\n",
       "      <td>Arthritis is the swelling and tenderness of on...</td>\n",
       "    </tr>\n",
       "    <tr>\n",
       "      <th>39</th>\n",
       "      <td>Gastroenteritis</td>\n",
       "      <td>Gastroenteritis is an inflammation of the dige...</td>\n",
       "    </tr>\n",
       "    <tr>\n",
       "      <th>40</th>\n",
       "      <td>Tuberculosis</td>\n",
       "      <td>Tuberculosis (TB) is an infectious disease usu...</td>\n",
       "    </tr>\n",
       "  </tbody>\n",
       "</table>\n",
       "</div>"
      ],
      "text/plain": [
       "            Disease                                        Description\n",
       "36     Heart attack  The death of heart muscle due to the loss of b...\n",
       "37        Pneumonia  Pneumonia is an infection in one or both lungs...\n",
       "38        Arthritis  Arthritis is the swelling and tenderness of on...\n",
       "39  Gastroenteritis  Gastroenteritis is an inflammation of the dige...\n",
       "40     Tuberculosis  Tuberculosis (TB) is an infectious disease usu..."
      ]
     },
     "execution_count": 22,
     "metadata": {},
     "output_type": "execute_result"
    }
   ],
   "source": [
    "# Disease descriptions\n",
    "desc_df = pd.read_csv('./Data/Dirty/disease_description.csv')\n",
    "desc_df.tail()"
   ]
  },
  {
   "cell_type": "markdown",
   "metadata": {},
   "source": [
    "### Disease Precautions"
   ]
  },
  {
   "cell_type": "code",
   "execution_count": 23,
   "metadata": {},
   "outputs": [
    {
     "data": {
      "text/html": [
       "<div>\n",
       "<style scoped>\n",
       "    .dataframe tbody tr th:only-of-type {\n",
       "        vertical-align: middle;\n",
       "    }\n",
       "\n",
       "    .dataframe tbody tr th {\n",
       "        vertical-align: top;\n",
       "    }\n",
       "\n",
       "    .dataframe thead th {\n",
       "        text-align: right;\n",
       "    }\n",
       "</style>\n",
       "<table border=\"1\" class=\"dataframe\">\n",
       "  <thead>\n",
       "    <tr style=\"text-align: right;\">\n",
       "      <th></th>\n",
       "      <th>Disease</th>\n",
       "      <th>Precaution_1</th>\n",
       "      <th>Precaution_2</th>\n",
       "      <th>Precaution_3</th>\n",
       "      <th>Precaution_4</th>\n",
       "    </tr>\n",
       "  </thead>\n",
       "  <tbody>\n",
       "    <tr>\n",
       "      <th>36</th>\n",
       "      <td>Heart attack</td>\n",
       "      <td>call ambulance</td>\n",
       "      <td>chew or swallow asprin</td>\n",
       "      <td>keep calm</td>\n",
       "      <td>NaN</td>\n",
       "    </tr>\n",
       "    <tr>\n",
       "      <th>37</th>\n",
       "      <td>Pneumonia</td>\n",
       "      <td>consult doctor</td>\n",
       "      <td>medication</td>\n",
       "      <td>rest</td>\n",
       "      <td>follow up</td>\n",
       "    </tr>\n",
       "    <tr>\n",
       "      <th>38</th>\n",
       "      <td>Arthritis</td>\n",
       "      <td>exercise</td>\n",
       "      <td>use hot and cold therapy</td>\n",
       "      <td>try acupuncture</td>\n",
       "      <td>massage</td>\n",
       "    </tr>\n",
       "    <tr>\n",
       "      <th>39</th>\n",
       "      <td>Gastroenteritis</td>\n",
       "      <td>stop eating solid food for while</td>\n",
       "      <td>try taking small sips of water</td>\n",
       "      <td>rest</td>\n",
       "      <td>ease back into eating</td>\n",
       "    </tr>\n",
       "    <tr>\n",
       "      <th>40</th>\n",
       "      <td>Tuberculosis</td>\n",
       "      <td>cover mouth</td>\n",
       "      <td>consult doctor</td>\n",
       "      <td>medication</td>\n",
       "      <td>rest</td>\n",
       "    </tr>\n",
       "  </tbody>\n",
       "</table>\n",
       "</div>"
      ],
      "text/plain": [
       "            Disease                      Precaution_1  \\\n",
       "36     Heart attack                    call ambulance   \n",
       "37        Pneumonia                    consult doctor   \n",
       "38        Arthritis                          exercise   \n",
       "39  Gastroenteritis  stop eating solid food for while   \n",
       "40     Tuberculosis                       cover mouth   \n",
       "\n",
       "                      Precaution_2     Precaution_3           Precaution_4  \n",
       "36          chew or swallow asprin        keep calm                    NaN  \n",
       "37                      medication             rest              follow up  \n",
       "38        use hot and cold therapy  try acupuncture                massage  \n",
       "39  try taking small sips of water             rest  ease back into eating  \n",
       "40                  consult doctor       medication                   rest  "
      ]
     },
     "execution_count": 23,
     "metadata": {},
     "output_type": "execute_result"
    }
   ],
   "source": [
    "# Disease precautions\n",
    "precaution_df = pd.read_csv('./Data/Dirty/disease_precaution.csv')\n",
    "precaution_df.tail()"
   ]
  },
  {
   "cell_type": "code",
   "execution_count": 24,
   "metadata": {},
   "outputs": [
    {
     "data": {
      "text/plain": [
       "['Consult nearest hospital',\n",
       " 'acetaminophen',\n",
       " 'anti itch medicine',\n",
       " 'antiboitic therapy',\n",
       " 'apply calamine']"
      ]
     },
     "execution_count": 24,
     "metadata": {},
     "output_type": "execute_result"
    }
   ],
   "source": [
    "# List of precaution column names from precaution_df\n",
    "precaution_cols = precaution_df.columns.to_list()[1:]\n",
    "\n",
    "# Get values from precaution columns as an array\n",
    "precaution_values = precaution_df[precaution_cols].values.astype(str)\n",
    "\n",
    "# Get list of unique values from array\n",
    "precaution_list = list(np.unique(precaution_values))\n",
    "precaution_list[:5]"
   ]
  },
  {
   "cell_type": "markdown",
   "metadata": {},
   "source": [
    "### Replace Values in all DataFrames"
   ]
  },
  {
   "cell_type": "code",
   "execution_count": 25,
   "metadata": {},
   "outputs": [],
   "source": [
    "# Replace precaution values\n",
    "precaution_replace = {\n",
    "    \"anti itch medicine\": \"anti-itch medicine\",\n",
    "    \"antiboitic therapy\": \"antibiotics\",\n",
    "    \"apply calamine\": \"apply calamine lotion\",\n",
    "    \"avoid abrupt head movment\": \"avoid abrupt head movement\",\n",
    "    \"avoid non veg food\": \"avoid non-vegeterian food\",\n",
    "    \"avoid sudden change in body\": \"avoid sudden body movements\",\n",
    "    \"avoid too many products\": \"avoid too many skincare products\",\n",
    "    \"bath twice\": \"bathe twice\",\n",
    "    \"check in pulse\": \"check pulse\",\n",
    "    \"chew or swallow asprin\": \"chew or swallow aspirin\",\n",
    "    \"Consult nearest hospital\": \"consult nearest hospital\",\n",
    "    \"consume alovera juice\": \"consume aloe vera juice\",\n",
    "    \"consume milk thistle\": \"drink vitamin c rich drinks\",\n",
    "    \"dont stand still for long\": \"don't stand still for long\",\n",
    "    \"eat fruits and high fiberous food\": \"eat fruits and foods high in fiber\",\n",
    "    \"eat high calorie vegitables\": \"eat high-calorie vegetables\",\n",
    "    \"follow up\": \"follow up with doctor\",\n",
    "    \"keep mosquitos out\": \"keep mosquitos away\",\n",
    "    \"salt baths\": \"warm bath with epsom salt\",\n",
    "    \"switch to loose cloothing\": \"loosen clothing\",\n",
    "    np.NaN: \"loosen clothing\",  # precaution for heart attack\n",
    "    \"take otc pain reliver\": \"take OTC pain reliever\",\n",
    "    \"take vapour\": \"steam inhalation\",\n",
    "    \"use detol or neem in bathing water\": \"use oil of tea tree or peppermint in bathwater\",\n",
    "    \"use neem in bathing \": \"use oil of tea tree or peppermint in bathwater\",\n",
    "    \"use oinments\": \"use ointments\",\n",
    "    \"use poloroid glasses in sun\": \"use polarized glasses in sun\",\n",
    "    \"wash hands through\": \"wash hands thoroughly\",\n",
    "    \"wash hands with warm soapy water\": \"wash hands thoroughly\",\n",
    "    \"wear ppe if possible\": \"wear PPE if possible\"\n",
    "}\n",
    "\n",
    "precaution_df = precaution_df.replace(precaution_replace)"
   ]
  },
  {
   "cell_type": "code",
   "execution_count": 26,
   "metadata": {},
   "outputs": [],
   "source": [
    "# Replace symptoms in data_df and severity_df\n",
    "symptom_replace = {\n",
    "    \"acidity\": \"heartburn\",\n",
    "    \"scurring\": \"scarring\",\n",
    "    \"diarrhoea\": \"diarrhea\",\n",
    "    \"cold_hands_and_feets\": \"cold_hands_and_feet\",\n",
    "    \"swollen_extremeties\": \"swollen_extremities\",\n",
    "    \"foul_smell_ofurine\": \"foul_smell_of_urine\",\n",
    "    \"altered_sensorium\": \"altered_mental_state\",\n",
    "    \"dischromic_patches\": \"mottling_skin\",\n",
    "    \"polyuria\": \"excessive_urination\",\n",
    "    \"burning_micturition\": \"painful_urination\",\n",
    "    \"silver_like_dusting\": \"blue-gray_complexion_(argyria)\",\n",
    "    \"pus_filled_pimples\": \"pus-filled_pimples\",\n",
    "    \"toxic_look_(typhos)\": \"toxic_look_(toxemia)\",\n",
    "    \"yellow_crust_ooze\": \"yellow_oozing_scabs\"\n",
    "}\n",
    "\n",
    "for df in [data_df, severity_df]:\n",
    "    # Create list of columns containing symptoms\n",
    "    symptom_cols = [col for col in df.columns if \"Symptom\" in col]\n",
    "\n",
    "    # Remove any whitespace in symptom\n",
    "    df[symptom_cols] = df[symptom_cols].replace(' ', '', regex=True)\n",
    "    \n",
    "    # Replace values according to dictionary\n",
    "    df[symptom_cols] = df[symptom_cols].replace(symptom_replace)\n",
    "\n",
    "    # Replace \"_\" with whitespace \" \"\n",
    "    df[symptom_cols] = df[symptom_cols].replace('_', ' ', regex=True)"
   ]
  },
  {
   "cell_type": "code",
   "execution_count": 27,
   "metadata": {},
   "outputs": [],
   "source": [
    "# Replace 'Disease' in data_df, desc_df, precaution_df\n",
    "# force lowercase for all diseases except AIDS & GERD\n",
    "disease_replace = {\n",
    "    \"Dimorphic hemorrhoids(piles)\": \"Hemorrhoids\",\n",
    "    \"Dimorphic hemmorhoids(piles)\": \"Hemorrhoids\",\n",
    "    \"Bronchial Asthma\": \"Bronchial asthma\",\n",
    "    \"Common Cold\": \"Common cold\",\n",
    "    \"Drug Reaction\": \"Drug reaction\",\n",
    "    \"Paralysis (brain hemorrhage)\": \"Brain hemorrhage\",\n",
    "    \"(vertigo) Paroymsal  Positional Vertigo\": \"Positional vertigo\",\n",
    "    \"Osteoarthristis\": \"Osteoarthritis\",\n",
    "    \"Typhoid\": \"Typhoid fever\",\n",
    "    \"Peptic ulcer diseae\": \"Peptic ulcer disease\"\n",
    "}\n",
    "\n",
    "for df in [data_df, desc_df, precaution_df]:\n",
    "    # Strip any preceding and trailing whitespace\n",
    "    data_df[col] = data_df[col].str.strip()\n",
    "\n",
    "    # Replace values according to dictionary\n",
    "    df['Disease'] = df['Disease'].replace(disease_replace)\n",
    "\n",
    "    # Lowercase first letter of disease if not acronym\n",
    "    df['Disease'] = df['Disease'].apply(\n",
    "        lambda x: x if x in ('GERD', 'AIDS')\\\n",
    "        else x[0].lower() + x[1:]\n",
    "    )"
   ]
  },
  {
   "cell_type": "markdown",
   "metadata": {},
   "source": [
    "### Export Cleaned Data"
   ]
  },
  {
   "cell_type": "code",
   "execution_count": 28,
   "metadata": {},
   "outputs": [],
   "source": [
    "# Save each DataFrame as .csv in Cleaned folder\n",
    "file_names = {\n",
    "    'dataset': data_df,\n",
    "    'disease_description': desc_df,\n",
    "    'disease_precaution': precaution_df,\n",
    "    'symptom_severity': severity_df\n",
    "}\n",
    "\n",
    "for filename in file_names:\n",
    "    filepath = f\"./Data/Cleaned/{filename}_clean.csv\"\n",
    "    file_names[filename].to_csv(filepath, index=False)"
   ]
  },
  {
   "cell_type": "code",
   "execution_count": 29,
   "metadata": {},
   "outputs": [],
   "source": [
    "# Export to SQL database\n",
    "import urllib.parse\n",
    "from sqlalchemy import create_engine\n",
    "import psycopg2\n",
    "\n",
    "import sys, os\n",
    "# Add location of config.py in grandparent folder to sys.path\n",
    "sys.path.append(os.path.abspath(os.path.join('../..')))\n",
    "from config import db_password, db_username, db_port\n",
    "\n",
    "# Store SQL connection string\n",
    "db_string = f\"postgresql://{db_username}:{urllib.parse.quote(db_password)}\\\n",
    "@127.0.0.1:{db_port}/disease_prediction\"\n",
    "\n",
    "sql_dfs = {\n",
    "    'disease_cases': data_df,\n",
    "    'disease_description': desc_df,\n",
    "    'disease_precautions': precaution_df,\n",
    "    'symptom_severity': severity_df\n",
    "}\n",
    "\n",
    "# Connect to SQL database\n",
    "# Use 'with' to let Python's context manager call Connection.close()\n",
    "with create_engine(db_string).connect() as engine:\n",
    "    # Save DataFrames as SQL tables\n",
    "    for table_name in sql_dfs:\n",
    "        try:\n",
    "            sql_dfs[table_name].to_sql(name=table_name,\n",
    "            con=engine,\n",
    "            if_exists='fail',\n",
    "            index=False,\n",
    "            )\n",
    "        except ValueError:\n",
    "            continue"
   ]
  },
  {
   "cell_type": "code",
   "execution_count": null,
   "metadata": {},
   "outputs": [],
   "source": []
  }
 ],
 "metadata": {
  "kernelspec": {
   "display_name": "Python 3.7.13 ('mlenv')",
   "language": "python",
   "name": "python3"
  },
  "language_info": {
   "codemirror_mode": {
    "name": "ipython",
    "version": 3
   },
   "file_extension": ".py",
   "mimetype": "text/x-python",
   "name": "python",
   "nbconvert_exporter": "python",
   "pygments_lexer": "ipython3",
   "version": "3.7.13"
  },
  "orig_nbformat": 4,
  "vscode": {
   "interpreter": {
    "hash": "bbc7bfc93d1e3e56daa686cc6e2f3441ee96e0bb404360dbb8abc699be8958c5"
   }
  }
 },
 "nbformat": 4,
 "nbformat_minor": 2
}
