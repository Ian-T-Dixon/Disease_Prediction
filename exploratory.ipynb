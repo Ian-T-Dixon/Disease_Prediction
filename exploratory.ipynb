{
 "cells": [
  {
   "cell_type": "code",
   "execution_count": null,
   "metadata": {},
   "outputs": [],
   "source": [
    "import numpy as np\n",
    "import pandas as pd"
   ]
  },
  {
   "cell_type": "markdown",
   "metadata": {},
   "source": [
    "### Main Dataset"
   ]
  },
  {
   "cell_type": "code",
   "execution_count": null,
   "metadata": {},
   "outputs": [],
   "source": [
    "# Main dataset\n",
    "data_df = pd.read_csv(\"./Data/Dirty/dataset.csv\")\n",
    "data_df.head()"
   ]
  },
  {
   "cell_type": "code",
   "execution_count": null,
   "metadata": {},
   "outputs": [],
   "source": [
    "# Number of target variables\n",
    "data_df['Disease'].nunique()"
   ]
  },
  {
   "cell_type": "code",
   "execution_count": null,
   "metadata": {},
   "outputs": [],
   "source": [
    "data_df['Disease'].value_counts()[:5]"
   ]
  },
  {
   "cell_type": "code",
   "execution_count": null,
   "metadata": {},
   "outputs": [],
   "source": [
    "# All diseases have a sample size of n=120\n",
    "data_df['Disease'].value_counts().nunique()"
   ]
  },
  {
   "cell_type": "code",
   "execution_count": null,
   "metadata": {},
   "outputs": [],
   "source": [
    "# Last column contains values\n",
    "data_df['Symptom_17'].value_counts()"
   ]
  },
  {
   "cell_type": "code",
   "execution_count": null,
   "metadata": {},
   "outputs": [],
   "source": [
    "# A more rigorous confirmation that no symptom columns contain only NaN\n",
    "empty_bool = True\n",
    "\n",
    "for col in data_df.columns[1:]:\n",
    "    if data_df[col].value_counts().empty == True:\n",
    "        print(col)\n",
    "        empty_bool = False\n",
    "        \n",
    "if empty_bool: print('No columns are empty.')"
   ]
  },
  {
   "cell_type": "code",
   "execution_count": null,
   "metadata": {},
   "outputs": [],
   "source": [
    "# Confirm that the .value_counts() of a column with only NaN is empty\n",
    "test_df = pd.DataFrame({'column': [np.nan] * 3})\n",
    "print(test_df)\n",
    "\n",
    "test_df['column'].value_counts().empty"
   ]
  },
  {
   "cell_type": "code",
   "execution_count": null,
   "metadata": {},
   "outputs": [],
   "source": [
    "# List of symptom column names from data_df\n",
    "symptom_cols = data_df.columns.to_list()[1:]\n",
    "\n",
    "# Get values from symptom columns as an array\n",
    "symptom_values = data_df[symptom_cols].values.astype(str)\n",
    "\n",
    "# Get list of unique values from array\n",
    "symptom_list = list(np.unique(symptom_values))\n",
    "symptom_list.remove('nan')\n",
    "symptom_list[:5]"
   ]
  },
  {
   "cell_type": "code",
   "execution_count": null,
   "metadata": {},
   "outputs": [],
   "source": [
    "# Get list of unique Disease values from data_df\n",
    "disease_data_list = list(np.unique(data_df['Disease'].values.astype(str)))\n",
    "disease_data_list[:5]"
   ]
  },
  {
   "cell_type": "code",
   "execution_count": null,
   "metadata": {},
   "outputs": [],
   "source": [
    "# Find diseases in data_df with leading or trailing whitespace\n",
    "for value in disease_data_list:\n",
    "    if value.startswith(\" \") or value.endswith(\" \"):\n",
    "        print(value)"
   ]
  },
  {
   "cell_type": "code",
   "execution_count": null,
   "metadata": {},
   "outputs": [],
   "source": [
    "# Strip all values in data_df of leading or trailing whitespace\n",
    "for col in data_df.columns:\n",
    "    data_df[col] = data_df[col].str.strip()"
   ]
  },
  {
   "cell_type": "code",
   "execution_count": null,
   "metadata": {},
   "outputs": [],
   "source": [
    "# Check that values in all columns have been stripped\n",
    "strip_bool = True\n",
    "\n",
    "for col in data_df:\n",
    "    if (data_df[col].str.startswith(\" \").any() or\n",
    "        data_df[col].str.endswith(\" \").any()):\n",
    "        print(col)\n",
    "        strip_bool = False\n",
    "        \n",
    "if strip_bool: print('No leading or trailing whitespace found.')"
   ]
  },
  {
   "cell_type": "markdown",
   "metadata": {},
   "source": [
    "### Symptom Severity"
   ]
  },
  {
   "cell_type": "code",
   "execution_count": null,
   "metadata": {},
   "outputs": [],
   "source": [
    "# Symptom severity\n",
    "severity_df = pd.read_csv('./Data/Dirty/symptom_severity.csv')\n",
    "severity_df.tail()"
   ]
  },
  {
   "cell_type": "code",
   "execution_count": null,
   "metadata": {},
   "outputs": [],
   "source": [
    "# Compare number of symptoms in dataset to those in severity_df\n",
    "print(len(symptom_list))\n",
    "\n",
    "print(len(severity_df['Symptom']))"
   ]
  },
  {
   "cell_type": "code",
   "execution_count": null,
   "metadata": {},
   "outputs": [],
   "source": [
    "# Find duplicated symptoms in severity_df\n",
    "severity_df[severity_df['Symptom'].duplicated()]"
   ]
  },
  {
   "cell_type": "code",
   "execution_count": null,
   "metadata": {},
   "outputs": [],
   "source": [
    "# Look at both duplicate records\n",
    "severity_df.loc[severity_df['Symptom'] == 'fluid_overload']"
   ]
  },
  {
   "cell_type": "code",
   "execution_count": null,
   "metadata": {},
   "outputs": [],
   "source": [
    "# Drop duplicate and replace weight of remaining record with the average, '5'\n",
    "severity_df = severity_df.drop_duplicates(subset='Symptom')\n",
    "\n",
    "fluid_exp = severity_df['Symptom'] == 'fluid_overload'\n",
    "severity_df.loc[fluid_exp, 'weight'] = '5'\n",
    "severity_df.loc[fluid_exp]"
   ]
  },
  {
   "cell_type": "code",
   "execution_count": null,
   "metadata": {},
   "outputs": [],
   "source": [
    "# Convert symptom severity weights to integers\n",
    "severity_df['weight'] = severity_df['weight'].astype('int')\n",
    "severity_df.dtypes"
   ]
  },
  {
   "cell_type": "code",
   "execution_count": null,
   "metadata": {},
   "outputs": [],
   "source": [
    "# Sort symptoms by weight to view comparatively\n",
    "severity_df = severity_df.sort_values(by='weight', ascending=False)\n",
    "severity_df = severity_df.reset_index(drop=True)\n",
    "severity_df"
   ]
  },
  {
   "cell_type": "code",
   "execution_count": null,
   "metadata": {},
   "outputs": [],
   "source": [
    "# Check distribution of symptom severity weights\n",
    "# Weights roughly follow a normal distribution\n",
    "weight_freq = severity_df['weight'].value_counts().sort_index()\n",
    "weight_freq.plot()"
   ]
  },
  {
   "cell_type": "markdown",
   "metadata": {},
   "source": [
    "### Disease Descriptions"
   ]
  },
  {
   "cell_type": "code",
   "execution_count": null,
   "metadata": {},
   "outputs": [],
   "source": [
    "# Disease descriptions\n",
    "desc_df = pd.read_csv('./Data/Dirty/disease_description.csv')\n",
    "desc_df.tail()"
   ]
  },
  {
   "cell_type": "markdown",
   "metadata": {},
   "source": [
    "### Disease Precautions"
   ]
  },
  {
   "cell_type": "code",
   "execution_count": null,
   "metadata": {},
   "outputs": [],
   "source": [
    "# Disease precautions\n",
    "precaution_df = pd.read_csv('./Data/Dirty/disease_precaution.csv')\n",
    "precaution_df.tail()"
   ]
  },
  {
   "cell_type": "code",
   "execution_count": null,
   "metadata": {},
   "outputs": [],
   "source": [
    "# List of precaution column names from precaution_df\n",
    "precaution_cols = precaution_df.columns.to_list()[1:]\n",
    "\n",
    "# Get values from precaution columns as an array\n",
    "precaution_values = precaution_df[precaution_cols].values.astype(str)\n",
    "\n",
    "# Get list of unique values from array\n",
    "precaution_list = list(np.unique(precaution_values))\n",
    "precaution_list[:5]"
   ]
  },
  {
   "cell_type": "markdown",
   "metadata": {},
   "source": [
    "### Replace Values in all DataFrames"
   ]
  },
  {
   "cell_type": "code",
   "execution_count": null,
   "metadata": {},
   "outputs": [],
   "source": [
    "# Replace precaution values\n",
    "precaution_replace = {\n",
    "    \"anti itch medicine\": \"anti-itch medicine\",\n",
    "    \"antiboitic therapy\": \"antibiotics\",\n",
    "    \"apply calamine\": \"apply calamine lotion\",\n",
    "    \"avoid abrupt head movment\": \"avoid abrupt head movement\",\n",
    "    \"avoid non veg food\": \"avoid non-vegeterian food\",\n",
    "    \"avoid sudden change in body\": \"avoid sudden body movements\",\n",
    "    \"avoid too many products\": \"avoid too many skincare products\",\n",
    "    \"bath twice\": \"bathe twice\",\n",
    "    \"check in pulse\": \"check pulse\",\n",
    "    \"chew or swallow asprin\": \"chew or swallow aspirin\",\n",
    "    \"Consult nearest hospital\": \"consult nearest hospital\",\n",
    "    \"consume alovera juice\": \"consume aloe vera juice\",\n",
    "    \"consume milk thistle\": \"drink vitamin c rich drinks\",\n",
    "    \"dont stand still for long\": \"don't stand still for long\",\n",
    "    \"eat fruits and high fiberous food\": \"eat fruits and foods high in fiber\",\n",
    "    \"eat high calorie vegitables\": \"eat high-calorie vegetables\",\n",
    "    \"follow up\": \"follow up with doctor\",\n",
    "    \"keep mosquitos out\": \"keep mosquitos away\",\n",
    "    \"salt baths\": \"warm bath with epsom salt\",\n",
    "    \"switch to loose cloothing\": \"loosen clothing\",\n",
    "    np.NaN: \"loosen clothing\",  # precaution for heart attack\n",
    "    \"take otc pain reliver\": \"take OTC pain reliever\",\n",
    "    \"take vapour\": \"steam inhalation\",\n",
    "    \"use detol or neem in bathing water\": \"use oil of tea tree or peppermint in bathwater\",\n",
    "    \"use neem in bathing \": \"use oil of tea tree or peppermint in bathwater\",\n",
    "    \"use oinments\": \"use ointments\",\n",
    "    \"use poloroid glasses in sun\": \"use polarized glasses in sun\",\n",
    "    \"wash hands through\": \"wash hands thoroughly\",\n",
    "    \"wash hands with warm soapy water\": \"wash hands thoroughly\",\n",
    "    \"wear ppe if possible\": \"wear PPE if possible\"\n",
    "}\n",
    "\n",
    "precaution_df = precaution_df.replace(precaution_replace)"
   ]
  },
  {
   "cell_type": "code",
   "execution_count": null,
   "metadata": {},
   "outputs": [],
   "source": [
    "# Replace 'Symptom*' in data_df and severity_df\n",
    "symptom_replace = {\n",
    "    \"scurring\": \"scarring\",\n",
    "    \"diarrhoea\": \"diarrhea\",\n",
    "    \"cold_hands_and_feets\": \"cold_hands_and_feet\",\n",
    "    \"swollen_extremeties\": \"swollen_extremities\",\n",
    "    \"foul_smell_ofurine\": \"foul_smell_of_urine\",\n",
    "    \"altered_sensorium\": \"altered_mental_state\",\n",
    "    \"dischromic_patches\": \"mottling_skin\",\n",
    "    \"polyuria\": \"excessive_urination\",\n",
    "    \"burning_micturition\": \"painful_urination\",\n",
    "    \"silver_like_dusting\": \"blue-gray_complexion_(argyria)\",\n",
    "    \"pus_filled_pimples\": \"pus-filled_pimples\",\n",
    "    \"toxic_look_(typhos)\": \"toxic_look_(toxemia)\",\n",
    "    \"yellow_crust_ooze\": \"yellow_oozing_scabs\"\n",
    "}\n",
    "\n",
    "for df in [data_df, severity_df]:\n",
    "    # Create list of columns containing symptoms\n",
    "    symptom_cols = [col for col in df.columns if \"Symptom\" in col]\n",
    "\n",
    "    # Remove any whitespace in symptom\n",
    "    df[symptom_cols] = df[symptom_cols].replace(' ', '', regex=True)\n",
    "    \n",
    "    # Replace values according to dictionary\n",
    "    df[symptom_cols] = df[symptom_cols].replace(symptom_replace)\n",
    "\n",
    "    # Replace \"_\" with whitespace \" \"\n",
    "    df[symptom_cols] = df[symptom_cols].replace('_', ' ', regex=True)"
   ]
  },
  {
   "cell_type": "code",
   "execution_count": null,
   "metadata": {},
   "outputs": [],
   "source": [
    "# Replace 'Disease' in data_df, desc_df, precaution_df\n",
    "# force lowercase for all diseases except AIDS & GERD\n",
    "disease_replace = {\n",
    "    \"Dimorphic hemorrhoids(piles)\": \"Hemorrhoids\",\n",
    "    \"Dimorphic hemmorhoids(piles)\": \"Hemorrhoids\",\n",
    "    \"Bronchial Asthma\": \"Bronchial asthma\",\n",
    "    \"Common Cold\": \"Common cold\",\n",
    "    \"Drug Reaction\": \"Drug reaction\",\n",
    "    \"Paralysis (brain hemorrhage)\": \"Brain hemorrhage\",\n",
    "    \"(vertigo) Paroymsal  Positional Vertigo\": \"Paroxysmal positional vertigo\",\n",
    "    \"Osteoarthristis\": \"Osteoarthritis\",\n",
    "    \"Typhoid\": \"Typhoid fever\"\n",
    "}\n",
    "\n",
    "for df in [data_df, desc_df, precaution_df]:\n",
    "    # Strip any preceding and trailing whitespace\n",
    "    data_df[col] = data_df[col].str.strip()\n",
    "\n",
    "    # Replace values according to dictionary\n",
    "    df['Disease'] = df['Disease'].replace(disease_replace)\n",
    "\n",
    "    # Lowercase first letter of disease if not acronym\n",
    "    df['Disease'] = df['Disease'].apply(\n",
    "        lambda x: x if x in ('GERD', 'AIDS')\\\n",
    "        else x[0].lower() + x[1:]\n",
    "    )"
   ]
  },
  {
   "cell_type": "markdown",
   "metadata": {},
   "source": [
    "### Export Cleaned Data"
   ]
  },
  {
   "cell_type": "code",
   "execution_count": null,
   "metadata": {},
   "outputs": [],
   "source": [
    "# Save each DataFrame as .csv in Cleaned folder\n",
    "file_names = {\n",
    "    'dataset': data_df,\n",
    "    'disease_description': desc_df,\n",
    "    'disease_precaution': precaution_df,\n",
    "    'symptom_severity': severity_df\n",
    "}\n",
    "\n",
    "for filename in file_names:\n",
    "    filepath = f\"./Data/Cleaned/{filename}_clean.csv\"\n",
    "    file_names[filename].to_csv(filepath, index=False)"
   ]
  }
 ],
 "metadata": {
  "kernelspec": {
   "display_name": "Python 3.7.13 ('mlenv')",
   "language": "python",
   "name": "python3"
  },
  "language_info": {
   "codemirror_mode": {
    "name": "ipython",
    "version": 3
   },
   "file_extension": ".py",
   "mimetype": "text/x-python",
   "name": "python",
   "nbconvert_exporter": "python",
   "pygments_lexer": "ipython3",
   "version": "3.7.13"
  },
  "orig_nbformat": 4,
  "vscode": {
   "interpreter": {
    "hash": "bbc7bfc93d1e3e56daa686cc6e2f3441ee96e0bb404360dbb8abc699be8958c5"
   }
  }
 },
 "nbformat": 4,
 "nbformat_minor": 2
}
